{
 "cells": [
  {
   "cell_type": "code",
   "execution_count": 50,
   "metadata": {},
   "outputs": [],
   "source": [
    "class Solution:\n",
    "    def longestCommonPrefix(self, strs: list[str]) -> str:\n",
    "        if len(strs) == 1:\n",
    "            return strs[0]\n",
    "\n",
    "        short = len(strs[0])\n",
    "        index = 0\n",
    "        for i, _ in enumerate(strs):\n",
    "            if short > len(_):\n",
    "                short = len(_)\n",
    "                index = i\n",
    "        if short == 0:\n",
    "            return \"\"\n",
    "\n",
    "        isSame = True\n",
    "        short_str = strs[index]\n",
    "        strs.remove(short_str)\n",
    "        for i, _ in enumerate(short_str):\n",
    "            for j in strs:\n",
    "                if j[i] != _:\n",
    "                    isSame = False\n",
    "            \n",
    "            if isSame == False:\n",
    "                return short_str[:i]\n",
    "        print(isSame)\n",
    "        if isSame == True:\n",
    "            return short_str"
   ]
  },
  {
   "cell_type": "code",
   "execution_count": 52,
   "metadata": {},
   "outputs": [
    {
     "data": {
      "text/plain": [
       "'fl'"
      ]
     },
     "execution_count": 52,
     "metadata": {},
     "output_type": "execute_result"
    }
   ],
   "source": [
    "s = Solution()\n",
    "s.longestCommonPrefix()"
   ]
  },
  {
   "cell_type": "code",
   "execution_count": null,
   "metadata": {},
   "outputs": [],
   "source": []
  },
  {
   "cell_type": "code",
   "execution_count": null,
   "metadata": {},
   "outputs": [],
   "source": []
  }
 ],
 "metadata": {
  "interpreter": {
   "hash": "62b8e38797574a9de3c3f9bc79729bb88e3b9c6776c95587f79be5c56a9bdc90"
  },
  "kernelspec": {
   "display_name": "Python 3.10.2 64-bit",
   "language": "python",
   "name": "python3"
  },
  "language_info": {
   "codemirror_mode": {
    "name": "ipython",
    "version": 3
   },
   "file_extension": ".py",
   "mimetype": "text/x-python",
   "name": "python",
   "nbconvert_exporter": "python",
   "pygments_lexer": "ipython3",
   "version": "3.10.2"
  },
  "orig_nbformat": 4
 },
 "nbformat": 4,
 "nbformat_minor": 2
}
