{
 "cells": [
  {
   "cell_type": "code",
   "execution_count": 17,
   "metadata": {},
   "outputs": [],
   "source": [
    "class Solution:\n",
    "    def merge(self, nums1: list[int], m: int, nums2: list[int], n: int) -> None:\n",
    "        \"\"\"\n",
    "        Do not return anything, modify nums1 in-place instead.\n",
    "        \"\"\"\n",
    "        count = 0\n",
    "        for i in range(m+n):\n",
    "            if i >= m:\n",
    "                nums1[i] = nums2[count]\n",
    "                count += 1\n",
    "            elif nums1[i] > nums2[count]:\n",
    "                nums2[count], nums1[i] = nums1[i], nums2[count]\n",
    "                count += 1\n",
    "            print(nums1, nums2)"
   ]
  },
  {
   "cell_type": "code",
   "execution_count": 18,
   "metadata": {},
   "outputs": [
    {
     "name": "stdout",
     "output_type": "stream",
     "text": [
      "[1, 2, 3, 0, 0, 0] [2, 5, 6]\n",
      "[1, 2, 3, 0, 0, 0] [2, 5, 6]\n",
      "[1, 2, 2, 0, 0, 0] [3, 5, 6]\n",
      "[1, 2, 2, 5, 0, 0] [3, 5, 6]\n",
      "[1, 2, 2, 5, 6, 0] [3, 5, 6]\n"
     ]
    },
    {
     "ename": "IndexError",
     "evalue": "list index out of range",
     "output_type": "error",
     "traceback": [
      "\u001b[1;31m---------------------------------------------------------------------------\u001b[0m",
      "\u001b[1;31mIndexError\u001b[0m                                Traceback (most recent call last)",
      "\u001b[1;32md:\\Work\\Git_hub\\leetcode_py3\\test.ipynb Cell 2'\u001b[0m in \u001b[0;36m<cell line: 2>\u001b[1;34m()\u001b[0m\n\u001b[0;32m      <a href='vscode-notebook-cell:/d%3A/Work/Git_hub/leetcode_py3/test.ipynb#ch0000001?line=0'>1</a>\u001b[0m s \u001b[39m=\u001b[39m Solution()\n\u001b[1;32m----> <a href='vscode-notebook-cell:/d%3A/Work/Git_hub/leetcode_py3/test.ipynb#ch0000001?line=1'>2</a>\u001b[0m s\u001b[39m.\u001b[39;49mmerge([\u001b[39m1\u001b[39;49m,\u001b[39m2\u001b[39;49m,\u001b[39m3\u001b[39;49m,\u001b[39m0\u001b[39;49m,\u001b[39m0\u001b[39;49m,\u001b[39m0\u001b[39;49m], \u001b[39m3\u001b[39;49m, [\u001b[39m2\u001b[39;49m,\u001b[39m5\u001b[39;49m,\u001b[39m6\u001b[39;49m], \u001b[39m3\u001b[39;49m)\n",
      "\u001b[1;32md:\\Work\\Git_hub\\leetcode_py3\\test.ipynb Cell 1'\u001b[0m in \u001b[0;36mSolution.merge\u001b[1;34m(self, nums1, m, nums2, n)\u001b[0m\n\u001b[0;32m      <a href='vscode-notebook-cell:/d%3A/Work/Git_hub/leetcode_py3/test.ipynb#ch0000000?line=6'>7</a>\u001b[0m \u001b[39mfor\u001b[39;00m i \u001b[39min\u001b[39;00m \u001b[39mrange\u001b[39m(m\u001b[39m+\u001b[39mn):\n\u001b[0;32m      <a href='vscode-notebook-cell:/d%3A/Work/Git_hub/leetcode_py3/test.ipynb#ch0000000?line=7'>8</a>\u001b[0m     \u001b[39mif\u001b[39;00m i \u001b[39m>\u001b[39m\u001b[39m=\u001b[39m m:\n\u001b[1;32m----> <a href='vscode-notebook-cell:/d%3A/Work/Git_hub/leetcode_py3/test.ipynb#ch0000000?line=8'>9</a>\u001b[0m         nums1[i] \u001b[39m=\u001b[39m nums2[count]\n\u001b[0;32m     <a href='vscode-notebook-cell:/d%3A/Work/Git_hub/leetcode_py3/test.ipynb#ch0000000?line=9'>10</a>\u001b[0m         count \u001b[39m+\u001b[39m\u001b[39m=\u001b[39m \u001b[39m1\u001b[39m\n\u001b[0;32m     <a href='vscode-notebook-cell:/d%3A/Work/Git_hub/leetcode_py3/test.ipynb#ch0000000?line=10'>11</a>\u001b[0m     \u001b[39melif\u001b[39;00m nums1[i] \u001b[39m>\u001b[39m nums2[count]:\n",
      "\u001b[1;31mIndexError\u001b[0m: list index out of range"
     ]
    }
   ],
   "source": [
    "s = Solution()\n",
    "s.merge([1,2,3,0,0,0], 3, [2,5,6], 3)"
   ]
  },
  {
   "cell_type": "code",
   "execution_count": 13,
   "metadata": {},
   "outputs": [
    {
     "ename": "SyntaxError",
     "evalue": "invalid syntax (747945606.py, line 1)",
     "output_type": "error",
     "traceback": [
      "\u001b[1;36m  Input \u001b[1;32mIn [13]\u001b[1;36m\u001b[0m\n\u001b[1;33m    2!\u001b[0m\n\u001b[1;37m     ^\u001b[0m\n\u001b[1;31mSyntaxError\u001b[0m\u001b[1;31m:\u001b[0m invalid syntax\n"
     ]
    }
   ],
   "source": []
  },
  {
   "cell_type": "code",
   "execution_count": null,
   "metadata": {},
   "outputs": [],
   "source": []
  }
 ],
 "metadata": {
  "interpreter": {
   "hash": "62b8e38797574a9de3c3f9bc79729bb88e3b9c6776c95587f79be5c56a9bdc90"
  },
  "kernelspec": {
   "display_name": "Python 3.10.2 64-bit",
   "language": "python",
   "name": "python3"
  },
  "language_info": {
   "codemirror_mode": {
    "name": "ipython",
    "version": 3
   },
   "file_extension": ".py",
   "mimetype": "text/x-python",
   "name": "python",
   "nbconvert_exporter": "python",
   "pygments_lexer": "ipython3",
   "version": "3.10.2"
  },
  "orig_nbformat": 4
 },
 "nbformat": 4,
 "nbformat_minor": 2
}
